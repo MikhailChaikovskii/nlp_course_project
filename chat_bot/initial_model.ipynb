{
 "cells": [
  {
   "cell_type": "code",
   "execution_count": 3,
   "metadata": {},
   "outputs": [
    {
     "name": "stdout",
     "output_type": "stream",
     "text": [
      "Using device: cuda\n"
     ]
    }
   ],
   "source": [
    "# Check if GPU is available\n",
    "import torch\n",
    "\n",
    "device = torch.device(\"cuda\" if torch.cuda.is_available() else \"cpu\")\n",
    "print(f\"Using device: {device}\")"
   ]
  },
  {
   "cell_type": "code",
   "execution_count": 4,
   "metadata": {},
   "outputs": [],
   "source": [
    "from transformers import AutoModelForCausalLM, AutoTokenizer\n",
    "\n",
    "# Load the pre-trained DialoGPT model\n",
    "model = AutoModelForCausalLM.from_pretrained(\"microsoft/DialoGPT-medium\").to(device)"
   ]
  },
  {
   "cell_type": "code",
   "execution_count": 5,
   "metadata": {},
   "outputs": [],
   "source": [
    "# load the dataset for fine-tuning\n",
    "from datasets import load_dataset\n",
    "\n",
    "# Load DailyDialog dataset\n",
    "dataset = load_dataset(\"daily_dialog\", split=\"validation\", trust_remote_code=True)"
   ]
  },
  {
   "cell_type": "code",
   "execution_count": 6,
   "metadata": {},
   "outputs": [
    {
     "data": {
      "text/plain": [
       "{'bos_token': '<|endoftext|>',\n",
       " 'eos_token': '<|endoftext|>',\n",
       " 'unk_token': '<|endoftext|>'}"
      ]
     },
     "execution_count": 6,
     "metadata": {},
     "output_type": "execute_result"
    }
   ],
   "source": [
    "# Load the tokenizer for DialoGPT\n",
    "tokenizer = AutoTokenizer.from_pretrained(\"microsoft/DialoGPT-medium\")\n",
    "tokenizer.special_tokens_map"
   ]
  },
  {
   "cell_type": "code",
   "execution_count": 7,
   "metadata": {},
   "outputs": [
    {
     "data": {
      "text/plain": [
       "{'bos_token': '<|endoftext|>',\n",
       " 'eos_token': '<|endoftext|>',\n",
       " 'unk_token': '<|endoftext|>',\n",
       " 'pad_token': '<|endoftext|>'}"
      ]
     },
     "execution_count": 7,
     "metadata": {},
     "output_type": "execute_result"
    }
   ],
   "source": [
    "tokenizer.add_special_tokens({'pad_token': tokenizer.eos_token})\n",
    "tokenizer.special_tokens_map"
   ]
  },
  {
   "cell_type": "code",
   "execution_count": 8,
   "metadata": {},
   "outputs": [
    {
     "name": "stderr",
     "output_type": "stream",
     "text": [
      "d:\\Anaconda\\envs\\my_ml_env\\Lib\\site-packages\\datasets\\load.py:1486: FutureWarning: The repository for daily_dialog contains custom code which must be executed to correctly load the dataset. You can inspect the repository content at https://hf.co/datasets/daily_dialog\n",
      "You can avoid this message in future by passing the argument `trust_remote_code=True`.\n",
      "Passing `trust_remote_code=True` will be mandatory to load this dataset from the next major release of `datasets`.\n",
      "  warnings.warn(\n",
      "Calculating Perplexity: 100%|██████████| 1000/1000 [01:34<00:00, 10.61it/s]"
     ]
    },
    {
     "name": "stdout",
     "output_type": "stream",
     "text": [
      "Perplexity: 103.19329071044922\n"
     ]
    },
    {
     "name": "stderr",
     "output_type": "stream",
     "text": [
      "\n"
     ]
    }
   ],
   "source": [
    "from transformers import AutoModelForCausalLM, AutoTokenizer\n",
    "from datasets import load_dataset\n",
    "import torch\n",
    "from tqdm import tqdm\n",
    "\n",
    "def calculate_perplexity(model, tokenizer, dataset, max_context_length=400):\n",
    "    model.eval()  # Set the model to evaluation mode\n",
    "    total_log_likelihood = 0\n",
    "    total_token_count = 0\n",
    "\n",
    "    for dialog in tqdm(dataset, desc=\"Calculating Perplexity\"):\n",
    "        for i in range(len(dialog['dialog']) - 1):\n",
    "            prompt = dialog['dialog'][i]\n",
    "            response = dialog['dialog'][i + 1]\n",
    "\n",
    "            # Concatenate prompt and response for language modeling\n",
    "            input_text = prompt + tokenizer.eos_token + response + tokenizer.eos_token\n",
    "            input_ids = tokenizer.encode(input_text, return_tensors=\"pt\").to(device)\n",
    "\n",
    "            if input_ids.shape[1] > max_context_length:\n",
    "                input_ids = input_ids[:, -max_context_length:]\n",
    "\n",
    "            # Generate predictions for all tokens\n",
    "            with torch.no_grad():\n",
    "                outputs = model(input_ids, labels=input_ids)\n",
    "                log_likelihood = outputs.loss * input_ids.shape[1]  # Total log-likelihood for the sequence\n",
    "\n",
    "            total_log_likelihood += log_likelihood.item()\n",
    "            total_token_count += input_ids.shape[1]\n",
    "\n",
    "    avg_log_likelihood = total_log_likelihood / total_token_count\n",
    "    perplexity = torch.exp(torch.tensor(avg_log_likelihood))\n",
    "\n",
    "    return perplexity.item()\n",
    "\n",
    "# Load the DailyDialog validation dataset\n",
    "dataset = load_dataset(\"daily_dialog\", split=\"validation\")\n",
    "\n",
    "# Load the fine-tuned model and tokenizer\n",
    "model_name = \"microsoft/DialoGPT-medium\"\n",
    "model = AutoModelForCausalLM.from_pretrained(model_name).to(device)\n",
    "tokenizer = AutoTokenizer.from_pretrained(model_name)\n",
    "\n",
    "# Calculate perplexity\n",
    "perplexity = calculate_perplexity(model, tokenizer, dataset)\n",
    "print(f\"Perplexity: {perplexity}\")"
   ]
  }
 ],
 "metadata": {
  "kernelspec": {
   "display_name": "my_ml_env",
   "language": "python",
   "name": "python3"
  },
  "language_info": {
   "codemirror_mode": {
    "name": "ipython",
    "version": 3
   },
   "file_extension": ".py",
   "mimetype": "text/x-python",
   "name": "python",
   "nbconvert_exporter": "python",
   "pygments_lexer": "ipython3",
   "version": "3.12.0"
  }
 },
 "nbformat": 4,
 "nbformat_minor": 2
}
