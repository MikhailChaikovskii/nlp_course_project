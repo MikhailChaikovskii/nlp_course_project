{
 "cells": [
  {
   "cell_type": "markdown",
   "metadata": {},
   "source": [
    "Я решил рассмотреть простой датасет, который нашёл в одном из соревнований на kaggle. Рассматриваются тексты вопросов со stackoverflow. Для финального проекта я может быть возьму что-то другое. Для данного задания хотел просто посмотреть как работает стандартная классификация без нейронок и без word embedding. Плюс хотел взять датасет как обычный csv файл, чтобы самому нужно было выделять столбцы таргета и фичей, а не получать их из подготовленного датасета. "
   ]
  },
  {
   "cell_type": "code",
   "execution_count": 19,
   "metadata": {},
   "outputs": [
    {
     "data": {
      "text/html": [
       "<div>\n",
       "<style scoped>\n",
       "    .dataframe tbody tr th:only-of-type {\n",
       "        vertical-align: middle;\n",
       "    }\n",
       "\n",
       "    .dataframe tbody tr th {\n",
       "        vertical-align: top;\n",
       "    }\n",
       "\n",
       "    .dataframe thead th {\n",
       "        text-align: right;\n",
       "    }\n",
       "</style>\n",
       "<table border=\"1\" class=\"dataframe\">\n",
       "  <thead>\n",
       "    <tr style=\"text-align: right;\">\n",
       "      <th></th>\n",
       "      <th>PostId</th>\n",
       "      <th>PostCreationDate</th>\n",
       "      <th>OwnerUserId</th>\n",
       "      <th>OwnerCreationDate</th>\n",
       "      <th>ReputationAtPostCreation</th>\n",
       "      <th>OwnerUndeletedAnswerCountAtPostTime</th>\n",
       "      <th>Title</th>\n",
       "      <th>BodyMarkdown</th>\n",
       "      <th>Tag1</th>\n",
       "      <th>Tag2</th>\n",
       "      <th>Tag3</th>\n",
       "      <th>Tag4</th>\n",
       "      <th>Tag5</th>\n",
       "      <th>PostClosedDate</th>\n",
       "      <th>OpenStatus</th>\n",
       "    </tr>\n",
       "  </thead>\n",
       "  <tbody>\n",
       "    <tr>\n",
       "      <th>0</th>\n",
       "      <td>6046168</td>\n",
       "      <td>05/18/2011 14:14:05</td>\n",
       "      <td>543315</td>\n",
       "      <td>09/17/2010 10:15:06</td>\n",
       "      <td>1</td>\n",
       "      <td>2</td>\n",
       "      <td>For Mongodb is it better to reference an objec...</td>\n",
       "      <td>I am building a corpus of indexed sentences in...</td>\n",
       "      <td>mongodb</td>\n",
       "      <td>NaN</td>\n",
       "      <td>NaN</td>\n",
       "      <td>NaN</td>\n",
       "      <td>NaN</td>\n",
       "      <td>NaN</td>\n",
       "      <td>open</td>\n",
       "    </tr>\n",
       "    <tr>\n",
       "      <th>1</th>\n",
       "      <td>4873911</td>\n",
       "      <td>02/02/2011 11:30:10</td>\n",
       "      <td>465076</td>\n",
       "      <td>10/03/2010 09:30:58</td>\n",
       "      <td>192</td>\n",
       "      <td>24</td>\n",
       "      <td>How to insert schemalocation in a xml document...</td>\n",
       "      <td>i create a xml document with JAXP and search a...</td>\n",
       "      <td>dom</td>\n",
       "      <td>xsd</td>\n",
       "      <td>jaxp</td>\n",
       "      <td>NaN</td>\n",
       "      <td>NaN</td>\n",
       "      <td>NaN</td>\n",
       "      <td>open</td>\n",
       "    </tr>\n",
       "    <tr>\n",
       "      <th>2</th>\n",
       "      <td>3311559</td>\n",
       "      <td>07/22/2010 17:21:54</td>\n",
       "      <td>406143</td>\n",
       "      <td>07/22/2010 16:58:20</td>\n",
       "      <td>1</td>\n",
       "      <td>0</td>\n",
       "      <td>Too many lookup tables</td>\n",
       "      <td>What are the adverse effects of having too man...</td>\n",
       "      <td>sql-server</td>\n",
       "      <td>database-design</td>\n",
       "      <td>enums</td>\n",
       "      <td>NaN</td>\n",
       "      <td>NaN</td>\n",
       "      <td>NaN</td>\n",
       "      <td>open</td>\n",
       "    </tr>\n",
       "    <tr>\n",
       "      <th>3</th>\n",
       "      <td>9990413</td>\n",
       "      <td>04/03/2012 09:18:39</td>\n",
       "      <td>851755</td>\n",
       "      <td>07/19/2011 10:22:40</td>\n",
       "      <td>4</td>\n",
       "      <td>1</td>\n",
       "      <td>What is this PHP code in VB.net</td>\n",
       "      <td>I am looking for the vb.net equivalent of this...</td>\n",
       "      <td>php</td>\n",
       "      <td>vb.net</td>\n",
       "      <td>NaN</td>\n",
       "      <td>NaN</td>\n",
       "      <td>NaN</td>\n",
       "      <td>04/15/2012 21:12:48</td>\n",
       "      <td>too localized</td>\n",
       "    </tr>\n",
       "    <tr>\n",
       "      <th>4</th>\n",
       "      <td>10421966</td>\n",
       "      <td>05/02/2012 21:25:01</td>\n",
       "      <td>603588</td>\n",
       "      <td>02/04/2011 18:05:34</td>\n",
       "      <td>334</td>\n",
       "      <td>14</td>\n",
       "      <td>Spring-Data mongodb querying multiple classes ...</td>\n",
       "      <td>With Spring-Data, you can use the @Document an...</td>\n",
       "      <td>mongodb</td>\n",
       "      <td>spring-data</td>\n",
       "      <td>NaN</td>\n",
       "      <td>NaN</td>\n",
       "      <td>NaN</td>\n",
       "      <td>NaN</td>\n",
       "      <td>open</td>\n",
       "    </tr>\n",
       "  </tbody>\n",
       "</table>\n",
       "</div>"
      ],
      "text/plain": [
       "     PostId     PostCreationDate  OwnerUserId    OwnerCreationDate  \\\n",
       "0   6046168  05/18/2011 14:14:05       543315  09/17/2010 10:15:06   \n",
       "1   4873911  02/02/2011 11:30:10       465076  10/03/2010 09:30:58   \n",
       "2   3311559  07/22/2010 17:21:54       406143  07/22/2010 16:58:20   \n",
       "3   9990413  04/03/2012 09:18:39       851755  07/19/2011 10:22:40   \n",
       "4  10421966  05/02/2012 21:25:01       603588  02/04/2011 18:05:34   \n",
       "\n",
       "   ReputationAtPostCreation  OwnerUndeletedAnswerCountAtPostTime  \\\n",
       "0                         1                                    2   \n",
       "1                       192                                   24   \n",
       "2                         1                                    0   \n",
       "3                         4                                    1   \n",
       "4                       334                                   14   \n",
       "\n",
       "                                               Title  \\\n",
       "0  For Mongodb is it better to reference an objec...   \n",
       "1  How to insert schemalocation in a xml document...   \n",
       "2                            Too many lookup tables    \n",
       "3                    What is this PHP code in VB.net   \n",
       "4  Spring-Data mongodb querying multiple classes ...   \n",
       "\n",
       "                                        BodyMarkdown        Tag1  \\\n",
       "0  I am building a corpus of indexed sentences in...     mongodb   \n",
       "1  i create a xml document with JAXP and search a...         dom   \n",
       "2  What are the adverse effects of having too man...  sql-server   \n",
       "3  I am looking for the vb.net equivalent of this...         php   \n",
       "4  With Spring-Data, you can use the @Document an...     mongodb   \n",
       "\n",
       "              Tag2   Tag3 Tag4 Tag5       PostClosedDate     OpenStatus  \n",
       "0              NaN    NaN  NaN  NaN                  NaN           open  \n",
       "1              xsd   jaxp  NaN  NaN                  NaN           open  \n",
       "2  database-design  enums  NaN  NaN                  NaN           open  \n",
       "3           vb.net    NaN  NaN  NaN  04/15/2012 21:12:48  too localized  \n",
       "4      spring-data    NaN  NaN  NaN                  NaN           open  "
      ]
     },
     "execution_count": 19,
     "metadata": {},
     "output_type": "execute_result"
    }
   ],
   "source": [
    "# Чтобы лучше понять зависимости, я решил вводить импорты в тех местах где они нужны, а не в верхушке файла как принято обычно\n",
    "import pandas as pd \n",
    "data = pd.read_csv(\"train-sample.csv\")\n",
    "data.head()"
   ]
  },
  {
   "cell_type": "markdown",
   "metadata": {},
   "source": [
    "Для нормальной классификации нужно обрабатывать не только сам текст поста, но и дополнительные фичи, но на данный момент я планирую работать только с текстом. Более того, я объединю заголовок и текст в один текст, так как пока не знаю как запускать классификатор, учитывающий несколько входов."
   ]
  },
  {
   "cell_type": "code",
   "execution_count": 20,
   "metadata": {},
   "outputs": [
    {
     "data": {
      "text/html": [
       "<div>\n",
       "<style scoped>\n",
       "    .dataframe tbody tr th:only-of-type {\n",
       "        vertical-align: middle;\n",
       "    }\n",
       "\n",
       "    .dataframe tbody tr th {\n",
       "        vertical-align: top;\n",
       "    }\n",
       "\n",
       "    .dataframe thead th {\n",
       "        text-align: right;\n",
       "    }\n",
       "</style>\n",
       "<table border=\"1\" class=\"dataframe\">\n",
       "  <thead>\n",
       "    <tr style=\"text-align: right;\">\n",
       "      <th></th>\n",
       "      <th>Title</th>\n",
       "      <th>BodyMarkdown</th>\n",
       "      <th>OpenStatus</th>\n",
       "    </tr>\n",
       "  </thead>\n",
       "  <tbody>\n",
       "    <tr>\n",
       "      <th>0</th>\n",
       "      <td>For Mongodb is it better to reference an objec...</td>\n",
       "      <td>I am building a corpus of indexed sentences in...</td>\n",
       "      <td>open</td>\n",
       "    </tr>\n",
       "    <tr>\n",
       "      <th>1</th>\n",
       "      <td>How to insert schemalocation in a xml document...</td>\n",
       "      <td>i create a xml document with JAXP and search a...</td>\n",
       "      <td>open</td>\n",
       "    </tr>\n",
       "    <tr>\n",
       "      <th>2</th>\n",
       "      <td>Too many lookup tables</td>\n",
       "      <td>What are the adverse effects of having too man...</td>\n",
       "      <td>open</td>\n",
       "    </tr>\n",
       "    <tr>\n",
       "      <th>3</th>\n",
       "      <td>What is this PHP code in VB.net</td>\n",
       "      <td>I am looking for the vb.net equivalent of this...</td>\n",
       "      <td>too localized</td>\n",
       "    </tr>\n",
       "    <tr>\n",
       "      <th>4</th>\n",
       "      <td>Spring-Data mongodb querying multiple classes ...</td>\n",
       "      <td>With Spring-Data, you can use the @Document an...</td>\n",
       "      <td>open</td>\n",
       "    </tr>\n",
       "  </tbody>\n",
       "</table>\n",
       "</div>"
      ],
      "text/plain": [
       "                                               Title  \\\n",
       "0  For Mongodb is it better to reference an objec...   \n",
       "1  How to insert schemalocation in a xml document...   \n",
       "2                            Too many lookup tables    \n",
       "3                    What is this PHP code in VB.net   \n",
       "4  Spring-Data mongodb querying multiple classes ...   \n",
       "\n",
       "                                        BodyMarkdown     OpenStatus  \n",
       "0  I am building a corpus of indexed sentences in...           open  \n",
       "1  i create a xml document with JAXP and search a...           open  \n",
       "2  What are the adverse effects of having too man...           open  \n",
       "3  I am looking for the vb.net equivalent of this...  too localized  \n",
       "4  With Spring-Data, you can use the @Document an...           open  "
      ]
     },
     "execution_count": 20,
     "metadata": {},
     "output_type": "execute_result"
    }
   ],
   "source": [
    "data_train = data[['Title', 'BodyMarkdown', 'OpenStatus']]\n",
    "data_train.head()"
   ]
  },
  {
   "cell_type": "code",
   "execution_count": 21,
   "metadata": {},
   "outputs": [
    {
     "data": {
      "text/plain": [
       "['open',\n",
       " 'not a real question',\n",
       " 'off topic',\n",
       " 'not constructive',\n",
       " 'too localized']"
      ]
     },
     "execution_count": 21,
     "metadata": {},
     "output_type": "execute_result"
    }
   ],
   "source": [
    "# посмотрим какие есть категории\n",
    "categories = list(data.OpenStatus.value_counts().index)\n",
    "categories"
   ]
  },
  {
   "cell_type": "code",
   "execution_count": 22,
   "metadata": {},
   "outputs": [
    {
     "data": {
      "text/plain": [
       "OpenStatus\n",
       "open                   70136\n",
       "not a real question    30789\n",
       "off topic              17530\n",
       "not constructive       15659\n",
       "too localized           6158\n",
       "Name: count, dtype: int64"
      ]
     },
     "execution_count": 22,
     "metadata": {},
     "output_type": "execute_result"
    }
   ],
   "source": [
    "# и как они распределены \n",
    "data_train.OpenStatus.value_counts()"
   ]
  },
  {
   "cell_type": "code",
   "execution_count": 23,
   "metadata": {},
   "outputs": [
    {
     "name": "stderr",
     "output_type": "stream",
     "text": [
      "C:\\Users\\chayk\\AppData\\Local\\Temp\\ipykernel_37924\\2025273089.py:3: SettingWithCopyWarning: \n",
      "A value is trying to be set on a copy of a slice from a DataFrame.\n",
      "Try using .loc[row_indexer,col_indexer] = value instead\n",
      "\n",
      "See the caveats in the documentation: https://pandas.pydata.org/pandas-docs/stable/user_guide/indexing.html#returning-a-view-versus-a-copy\n",
      "  data_train['OpenStatus']= data_train['OpenStatus'].map({'open': 0, 'not a real question': 1, 'off topic': 2, 'not constructive': 3, 'too localized': 4})\n"
     ]
    },
    {
     "data": {
      "text/html": [
       "<div>\n",
       "<style scoped>\n",
       "    .dataframe tbody tr th:only-of-type {\n",
       "        vertical-align: middle;\n",
       "    }\n",
       "\n",
       "    .dataframe tbody tr th {\n",
       "        vertical-align: top;\n",
       "    }\n",
       "\n",
       "    .dataframe thead th {\n",
       "        text-align: right;\n",
       "    }\n",
       "</style>\n",
       "<table border=\"1\" class=\"dataframe\">\n",
       "  <thead>\n",
       "    <tr style=\"text-align: right;\">\n",
       "      <th></th>\n",
       "      <th>Title</th>\n",
       "      <th>BodyMarkdown</th>\n",
       "      <th>OpenStatus</th>\n",
       "    </tr>\n",
       "  </thead>\n",
       "  <tbody>\n",
       "    <tr>\n",
       "      <th>0</th>\n",
       "      <td>For Mongodb is it better to reference an objec...</td>\n",
       "      <td>I am building a corpus of indexed sentences in...</td>\n",
       "      <td>0</td>\n",
       "    </tr>\n",
       "    <tr>\n",
       "      <th>1</th>\n",
       "      <td>How to insert schemalocation in a xml document...</td>\n",
       "      <td>i create a xml document with JAXP and search a...</td>\n",
       "      <td>0</td>\n",
       "    </tr>\n",
       "    <tr>\n",
       "      <th>2</th>\n",
       "      <td>Too many lookup tables</td>\n",
       "      <td>What are the adverse effects of having too man...</td>\n",
       "      <td>0</td>\n",
       "    </tr>\n",
       "    <tr>\n",
       "      <th>3</th>\n",
       "      <td>What is this PHP code in VB.net</td>\n",
       "      <td>I am looking for the vb.net equivalent of this...</td>\n",
       "      <td>4</td>\n",
       "    </tr>\n",
       "    <tr>\n",
       "      <th>4</th>\n",
       "      <td>Spring-Data mongodb querying multiple classes ...</td>\n",
       "      <td>With Spring-Data, you can use the @Document an...</td>\n",
       "      <td>0</td>\n",
       "    </tr>\n",
       "  </tbody>\n",
       "</table>\n",
       "</div>"
      ],
      "text/plain": [
       "                                               Title  \\\n",
       "0  For Mongodb is it better to reference an objec...   \n",
       "1  How to insert schemalocation in a xml document...   \n",
       "2                            Too many lookup tables    \n",
       "3                    What is this PHP code in VB.net   \n",
       "4  Spring-Data mongodb querying multiple classes ...   \n",
       "\n",
       "                                        BodyMarkdown  OpenStatus  \n",
       "0  I am building a corpus of indexed sentences in...           0  \n",
       "1  i create a xml document with JAXP and search a...           0  \n",
       "2  What are the adverse effects of having too man...           0  \n",
       "3  I am looking for the vb.net equivalent of this...           4  \n",
       "4  With Spring-Data, you can use the @Document an...           0  "
      ]
     },
     "execution_count": 23,
     "metadata": {},
     "output_type": "execute_result"
    }
   ],
   "source": [
    "# В одной из лекции таргеты преобразовывались в числа, хотя в лекции про классификаторы этого явно не производилось. Пока что я не понимаю обязателен ли этот шаг\n",
    "\n",
    "data_train['OpenStatus']= data_train['OpenStatus'].map({'open': 0, 'not a real question': 1, 'off topic': 2, 'not constructive': 3, 'too localized': 4}) \n",
    "data_train.head()"
   ]
  },
  {
   "cell_type": "code",
   "execution_count": 24,
   "metadata": {},
   "outputs": [],
   "source": [
    "# Разделяем данные на фичи и таргет\n",
    "x = data_train['Title'] + ' '+ data_train['BodyMarkdown']\n",
    "y = data_train['OpenStatus']\n",
    "\n",
    "\n",
    "# используем стандартные методы sklearn для разделения на трейн и тест\n",
    "from sklearn.model_selection import train_test_split \n",
    "xtrain, xtest, ytrain, ytest = train_test_split(x, y, test_size = 0.2, random_state = 203)"
   ]
  },
  {
   "cell_type": "code",
   "execution_count": 52,
   "metadata": {},
   "outputs": [
    {
     "data": {
      "text/plain": [
       "0         For Mongodb is it better to reference an objec...\n",
       "1         How to insert schemalocation in a xml document...\n",
       "2         Too many lookup tables  What are the adverse e...\n",
       "3         What is this PHP code in VB.net I am looking f...\n",
       "4         Spring-Data mongodb querying multiple classes ...\n",
       "                                ...                        \n",
       "140267    Is it possible to implement bitwise operators ...\n",
       "140268    Ruby on Rails: MySql Gem does not work: uninit...\n",
       "140269    deleting image from image folder I am working ...\n",
       "140270    Need help making HTML's Hi to all the gurus ou...\n",
       "140271    How dangerous is it to output certain content ...\n",
       "Length: 140272, dtype: object"
      ]
     },
     "execution_count": 52,
     "metadata": {},
     "output_type": "execute_result"
    }
   ],
   "source": [
    "x"
   ]
  },
  {
   "cell_type": "code",
   "execution_count": 25,
   "metadata": {},
   "outputs": [],
   "source": [
    "# Сначала попробую сделать классификацию без предобработки текста, используя только встроенный tf-idf\n",
    "from sklearn.feature_extraction.text import TfidfVectorizer\n",
    "\n",
    "vectorizer = TfidfVectorizer(max_features = 20000)\n",
    "\n"
   ]
  },
  {
   "cell_type": "markdown",
   "metadata": {},
   "source": [
    "Как я понял, tf-idf содердит дефолтный токинезатор, а так же приводит все слова к нижнему регистру. Можно даже вытащить функции, которые преобразуют входные тексты и посмотреть как именно он преобразует"
   ]
  },
  {
   "cell_type": "code",
   "execution_count": 26,
   "metadata": {},
   "outputs": [
    {
     "data": {
      "text/plain": [
       "'With Spring-Data, you can use the @Document annotation to specify which collection to save the object to.  Say i have two classes, Student and Teacher, both persisted into the people collection.  When I execute the following code:\\r\\n\\r\\n    mongo.find(new Query(), Teacher.class);\\r\\n\\r\\nresult contains both Student and Teacher.  Looking in the data created by Spring-Data, each document contains a \"_class\" field which indicate which class it is persisted from.  \\r\\n\\r\\nThis is field not used in find as an filter to return only Teacher?  How do I query if I only want to return Teacher saved in the people collection?'"
      ]
     },
     "execution_count": 26,
     "metadata": {},
     "output_type": "execute_result"
    }
   ],
   "source": [
    "data_train.iloc[4,1]"
   ]
  },
  {
   "cell_type": "code",
   "execution_count": 27,
   "metadata": {},
   "outputs": [
    {
     "data": {
      "text/plain": [
       "['with',\n",
       " 'spring',\n",
       " 'data',\n",
       " 'you',\n",
       " 'can',\n",
       " 'use',\n",
       " 'the',\n",
       " 'document',\n",
       " 'annotation',\n",
       " 'to',\n",
       " 'specify',\n",
       " 'which',\n",
       " 'collection',\n",
       " 'to',\n",
       " 'save',\n",
       " 'the',\n",
       " 'object',\n",
       " 'to',\n",
       " 'say',\n",
       " 'have',\n",
       " 'two',\n",
       " 'classes',\n",
       " 'student',\n",
       " 'and',\n",
       " 'teacher',\n",
       " 'both',\n",
       " 'persisted',\n",
       " 'into',\n",
       " 'the',\n",
       " 'people',\n",
       " 'collection',\n",
       " 'when',\n",
       " 'execute',\n",
       " 'the',\n",
       " 'following',\n",
       " 'code',\n",
       " 'mongo',\n",
       " 'find',\n",
       " 'new',\n",
       " 'query',\n",
       " 'teacher',\n",
       " 'class',\n",
       " 'result',\n",
       " 'contains',\n",
       " 'both',\n",
       " 'student',\n",
       " 'and',\n",
       " 'teacher',\n",
       " 'looking',\n",
       " 'in',\n",
       " 'the',\n",
       " 'data',\n",
       " 'created',\n",
       " 'by',\n",
       " 'spring',\n",
       " 'data',\n",
       " 'each',\n",
       " 'document',\n",
       " 'contains',\n",
       " '_class',\n",
       " 'field',\n",
       " 'which',\n",
       " 'indicate',\n",
       " 'which',\n",
       " 'class',\n",
       " 'it',\n",
       " 'is',\n",
       " 'persisted',\n",
       " 'from',\n",
       " 'this',\n",
       " 'is',\n",
       " 'field',\n",
       " 'not',\n",
       " 'used',\n",
       " 'in',\n",
       " 'find',\n",
       " 'as',\n",
       " 'an',\n",
       " 'filter',\n",
       " 'to',\n",
       " 'return',\n",
       " 'only',\n",
       " 'teacher',\n",
       " 'how',\n",
       " 'do',\n",
       " 'query',\n",
       " 'if',\n",
       " 'only',\n",
       " 'want',\n",
       " 'to',\n",
       " 'return',\n",
       " 'teacher',\n",
       " 'saved',\n",
       " 'in',\n",
       " 'the',\n",
       " 'people',\n",
       " 'collection']"
      ]
     },
     "execution_count": 27,
     "metadata": {},
     "output_type": "execute_result"
    }
   ],
   "source": [
    "analyzer =vectorizer.build_analyzer()\n",
    "\n",
    "analyzer(data_train.iloc[4,1])"
   ]
  },
  {
   "cell_type": "markdown",
   "metadata": {},
   "source": [
    "Инетерсно, что оброшены такие символы как @ и знаки пунктуации, но стоп-слова по умолчанию не учтены (например with, артикли)"
   ]
  },
  {
   "cell_type": "code",
   "execution_count": 28,
   "metadata": {},
   "outputs": [],
   "source": [
    "# Обучаем tf-idf на тренировочной выборке, и применяем вектризацию к трейну и тесту \n",
    "\n",
    "xtrain_tfidf = vectorizer.fit_transform(xtrain).toarray()  \n",
    "xtest_tfidf = vectorizer.transform(xtest).toarray()   "
   ]
  },
  {
   "cell_type": "code",
   "execution_count": 33,
   "metadata": {},
   "outputs": [],
   "source": [
    "# Пробуем классификатор Naive Bayes \n",
    "from sklearn.naive_bayes import MultinomialNB\n",
    "clf = MultinomialNB()\n",
    "\n",
    "clf.fit(xtrain_tfidf, ytrain)\n",
    "\n",
    "predicted_NB = clf.predict(xtest_tfidf)"
   ]
  },
  {
   "cell_type": "code",
   "execution_count": 37,
   "metadata": {},
   "outputs": [
    {
     "name": "stdout",
     "output_type": "stream",
     "text": [
      "Classification Report \n",
      "               precision    recall  f1-score   support\n",
      "\n",
      "           0       0.62      0.92      0.74     14037\n",
      "           1       0.55      0.19      0.28      6083\n",
      "           2       0.64      0.35      0.46      3547\n",
      "           3       0.55      0.55      0.55      3132\n",
      "           4       0.27      0.01      0.02      1256\n",
      "\n",
      "    accuracy                           0.61     28055\n",
      "   macro avg       0.53      0.40      0.41     28055\n",
      "weighted avg       0.58      0.61      0.55     28055\n",
      "\n"
     ]
    },
    {
     "data": {
      "image/png": "[encoded data removed]",
      "text/plain": [
       "<Figure size 640x480 with 2 Axes>"
      ]
     },
     "metadata": {},
     "output_type": "display_data"
    }
   ],
   "source": [
    "# Используем стандартные методы оценки характеристик классификации\n",
    "from sklearn.metrics import accuracy_score, classification_report, confusion_matrix \n",
    "import matplotlib.pyplot as plt \n",
    "import seaborn as sns \n",
    "\n",
    "mat = confusion_matrix(ytest, predicted_NB)\n",
    "\n",
    "print('Classification Report \\n', classification_report(ytest, predicted_NB))\n",
    "\n",
    "sns.heatmap(mat.T, square=True, annot=True, fmt=\"d\", xticklabels=categories, yticklabels=categories)\n",
    "plt.xlabel(\"true labels\")\n",
    "plt.ylabel(\"predicted label\")\n",
    "plt.show()"
   ]
  },
  {
   "cell_type": "markdown",
   "metadata": {},
   "source": [
    "Теперь пробуем с логистической регрессией, но используя пайплайн, чтобы не делать руками векторизацию"
   ]
  },
  {
   "cell_type": "code",
   "execution_count": 38,
   "metadata": {},
   "outputs": [],
   "source": [
    "from sklearn.linear_model import LogisticRegression\n",
    "from sklearn.pipeline import make_pipeline\n",
    "\n",
    "model = make_pipeline(TfidfVectorizer(), LogisticRegression(max_iter=1000)) # снова максимально простой пайплайн без подбора гиперпараметров\n",
    "model.fit(xtrain, ytrain)\n",
    "predicted_categories = model.predict(xtest)"
   ]
  },
  {
   "cell_type": "code",
   "execution_count": 39,
   "metadata": {},
   "outputs": [
    {
     "name": "stdout",
     "output_type": "stream",
     "text": [
      "Classification Report \n",
      "               precision    recall  f1-score   support\n",
      "\n",
      "           0       0.68      0.86      0.76     14037\n",
      "           1       0.55      0.42      0.47      6083\n",
      "           2       0.60      0.48      0.54      3547\n",
      "           3       0.60      0.54      0.57      3132\n",
      "           4       0.50      0.05      0.08      1256\n",
      "\n",
      "    accuracy                           0.64     28055\n",
      "   macro avg       0.59      0.47      0.49     28055\n",
      "weighted avg       0.63      0.64      0.62     28055\n",
      "\n"
     ]
    },
    {
     "data": {
      "image/png": "[encoded data removed]",
      "text/plain": [
       "<Figure size 640x480 with 2 Axes>"
      ]
     },
     "metadata": {},
     "output_type": "display_data"
    }
   ],
   "source": [
    "print('Classification Report \\n', classification_report(ytest, predicted_categories))\n",
    "mat = confusion_matrix(ytest, predicted_categories)\n",
    "sns.heatmap(mat.T, square=True, annot=True, fmt=\"d\")\n",
    "plt.xlabel(\"true labels\")\n",
    "plt.ylabel(\"predicted label\")\n",
    "plt.show()"
   ]
  },
  {
   "cell_type": "markdown",
   "metadata": {},
   "source": [
    "Можно попробовать заложить в tf-idf параметры, которые отбросят слишком часто используемые слова. Ещё можно сразу воспользоваться на уровне tf-idf стоп-словами английского языка "
   ]
  },
  {
   "cell_type": "code",
   "execution_count": 42,
   "metadata": {},
   "outputs": [],
   "source": [
    "model = make_pipeline(TfidfVectorizer(stop_words='english',max_df=0.8, min_df = 5e-6), LogisticRegression(max_iter=1000))\n",
    "model.fit(xtrain, ytrain)\n",
    "predicted_categories = model.predict(xtest)"
   ]
  },
  {
   "cell_type": "code",
   "execution_count": 43,
   "metadata": {},
   "outputs": [
    {
     "name": "stdout",
     "output_type": "stream",
     "text": [
      "Classification Report \n",
      "               precision    recall  f1-score   support\n",
      "\n",
      "           0       0.68      0.87      0.76     14037\n",
      "           1       0.53      0.39      0.45      6083\n",
      "           2       0.61      0.49      0.54      3547\n",
      "           3       0.60      0.52      0.56      3132\n",
      "           4       0.51      0.04      0.07      1256\n",
      "\n",
      "    accuracy                           0.64     28055\n",
      "   macro avg       0.59      0.46      0.48     28055\n",
      "weighted avg       0.62      0.64      0.61     28055\n",
      "\n"
     ]
    },
    {
     "data": {
      "image/png": "[encoded data removed]",
      "text/plain": [
       "<Figure size 640x480 with 2 Axes>"
      ]
     },
     "metadata": {},
     "output_type": "display_data"
    }
   ],
   "source": [
    "print('Classification Report \\n', classification_report(ytest, predicted_categories))\n",
    "mat = confusion_matrix(ytest, predicted_categories)\n",
    "sns.heatmap(mat.T, square=True, annot=True, fmt=\"d\")\n",
    "plt.xlabel(\"true labels\")\n",
    "plt.ylabel(\"predicted label\")\n",
    "plt.show()"
   ]
  },
  {
   "cell_type": "markdown",
   "metadata": {},
   "source": [
    "Результата никакого... Можно попробовать предобработку текстов как было в лекции."
   ]
  },
  {
   "cell_type": "code",
   "execution_count": 71,
   "metadata": {},
   "outputs": [],
   "source": [
    "# Чтобы проверить предобработку пришлось сильно сократить датасет, иначе долго считает, быстро что-то проверять не удобно\n",
    "data_train = data_train.sample(20000, random_state = 2)\n",
    "\n",
    "x = data_train['Title'] + ' '+ data_train['BodyMarkdown']\n",
    "y = data_train['OpenStatus']\n",
    "\n",
    "\n",
    "data = pd.DataFrame(x,columns=['text'])"
   ]
  },
  {
   "cell_type": "code",
   "execution_count": 74,
   "metadata": {},
   "outputs": [
    {
     "data": {
      "text/html": [
       "<div>\n",
       "<style scoped>\n",
       "    .dataframe tbody tr th:only-of-type {\n",
       "        vertical-align: middle;\n",
       "    }\n",
       "\n",
       "    .dataframe tbody tr th {\n",
       "        vertical-align: top;\n",
       "    }\n",
       "\n",
       "    .dataframe thead th {\n",
       "        text-align: right;\n",
       "    }\n",
       "</style>\n",
       "<table border=\"1\" class=\"dataframe\">\n",
       "  <thead>\n",
       "    <tr style=\"text-align: right;\">\n",
       "      <th></th>\n",
       "      <th>text</th>\n",
       "      <th>cleaned_text</th>\n",
       "    </tr>\n",
       "  </thead>\n",
       "  <tbody>\n",
       "    <tr>\n",
       "      <th>139251</th>\n",
       "      <td>SIFR vs Cufon vs Typeface.js With browser supp...</td>\n",
       "      <td>sifr vs cufon vs typeface.js browser support l...</td>\n",
       "    </tr>\n",
       "    <tr>\n",
       "      <th>71490</th>\n",
       "      <td>Origin of \"://\" in many URI syntaxes Anybody k...</td>\n",
       "      <td>origin uri syntax anybody know come uris synta...</td>\n",
       "    </tr>\n",
       "    <tr>\n",
       "      <th>42039</th>\n",
       "      <td>Facebook Timeline - how to convert to older pr...</td>\n",
       "      <td>facebook timeline convert old profile accident...</td>\n",
       "    </tr>\n",
       "    <tr>\n",
       "      <th>137936</th>\n",
       "      <td>Increment capacity in stack class java im usin...</td>\n",
       "      <td>increment capacity stack class java m stack ja...</td>\n",
       "    </tr>\n",
       "    <tr>\n",
       "      <th>7101</th>\n",
       "      <td>nHibernate - Objects or ObjectID's in classes ...</td>\n",
       "      <td>nhibernate objects objectid class migrate curr...</td>\n",
       "    </tr>\n",
       "  </tbody>\n",
       "</table>\n",
       "</div>"
      ],
      "text/plain": [
       "                                                     text  \\\n",
       "139251  SIFR vs Cufon vs Typeface.js With browser supp...   \n",
       "71490   Origin of \"://\" in many URI syntaxes Anybody k...   \n",
       "42039   Facebook Timeline - how to convert to older pr...   \n",
       "137936  Increment capacity in stack class java im usin...   \n",
       "7101    nHibernate - Objects or ObjectID's in classes ...   \n",
       "\n",
       "                                             cleaned_text  \n",
       "139251  sifr vs cufon vs typeface.js browser support l...  \n",
       "71490   origin uri syntax anybody know come uris synta...  \n",
       "42039   facebook timeline convert old profile accident...  \n",
       "137936  increment capacity stack class java m stack ja...  \n",
       "7101    nhibernate objects objectid class migrate curr...  "
      ]
     },
     "execution_count": 74,
     "metadata": {},
     "output_type": "execute_result"
    }
   ],
   "source": [
    "import spacy\n",
    "nlp = spacy.load(\"en_core_web_sm\")\n",
    "\n",
    "data['cleaned_text'] = data['text'].apply(\n",
    "    lambda x: ' '.join(\n",
    "        token.lemma_.lower() for token in nlp(x) if \n",
    "        not token.is_stop \n",
    "        and not token.is_punct\n",
    "        and not token.is_digit\n",
    "        and not token.like_email\n",
    "        and not token.like_num\n",
    "        and not token.is_space\n",
    "    )\n",
    ")\n",
    "data.sample(5)"
   ]
  },
  {
   "cell_type": "code",
   "execution_count": 75,
   "metadata": {},
   "outputs": [
    {
     "name": "stdout",
     "output_type": "stream",
     "text": [
      "Classification Report \n",
      "               precision    recall  f1-score   support\n",
      "\n",
      "           0       0.65      0.87      0.74      1977\n",
      "           1       0.47      0.35      0.40       837\n",
      "           2       0.60      0.39      0.47       527\n",
      "           3       0.62      0.51      0.56       460\n",
      "           4       0.11      0.01      0.01       199\n",
      "\n",
      "    accuracy                           0.61      4000\n",
      "   macro avg       0.49      0.42      0.44      4000\n",
      "weighted avg       0.57      0.61      0.58      4000\n",
      "\n"
     ]
    },
    {
     "data": {
      "image/png": "[encoded data removed]",
      "text/plain": [
       "<Figure size 640x480 with 2 Axes>"
      ]
     },
     "metadata": {},
     "output_type": "display_data"
    }
   ],
   "source": [
    "x_clean = data['cleaned_text']\n",
    "y_clean = y\n",
    "\n",
    "xtrain, xtest, ytrain, ytest = train_test_split(x_clean, y_clean, test_size = 0.2, random_state = 2)\n",
    "\n",
    "model = make_pipeline(TfidfVectorizer(stop_words='english',max_df=0.8, min_df = 0.001), LogisticRegression(max_iter=1000)) \n",
    "model.fit(xtrain, ytrain)\n",
    "predicted_categories = model.predict(xtest)\n",
    "\n",
    "\n",
    "print('Classification Report \\n', classification_report(ytest, predicted_categories))\n",
    "mat = confusion_matrix(ytest, predicted_categories)\n",
    "sns.heatmap(mat.T, square=True, annot=True, fmt=\"d\")\n",
    "plt.xlabel(\"true labels\")\n",
    "plt.ylabel(\"predicted label\")\n",
    "plt.show()"
   ]
  },
  {
   "cell_type": "markdown",
   "metadata": {},
   "source": [
    "Либо я что-то делаю не так, либо на классификцию обработка текста не повлияла"
   ]
  }
 ],
 "metadata": {
  "kernelspec": {
   "display_name": "my_ml_env",
   "language": "python",
   "name": "python3"
  },
  "language_info": {
   "codemirror_mode": {
    "name": "ipython",
    "version": 3
   },
   "file_extension": ".py",
   "mimetype": "text/x-python",
   "name": "python",
   "nbconvert_exporter": "python",
   "pygments_lexer": "ipython3",
   "version": "3.12.0"
  }
 },
 "nbformat": 4,
 "nbformat_minor": 2
}
